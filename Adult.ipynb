{
 "cells": [
  {
   "cell_type": "markdown",
   "id": "55572330",
   "metadata": {},
   "source": [
    "# Data Preprocessing"
   ]
  },
  {
   "cell_type": "markdown",
   "id": "432ec54d",
   "metadata": {},
   "source": [
    "## Import Libraries"
   ]
  },
  {
   "cell_type": "code",
   "execution_count": 1,
   "id": "2e95c6d6",
   "metadata": {},
   "outputs": [],
   "source": [
    "import numpy as np\n",
    "import matplotlib.pyplot as plt\n",
    "import pandas as pd"
   ]
  },
  {
   "cell_type": "markdown",
   "id": "15229583",
   "metadata": {},
   "source": [
    "## Load Dataset"
   ]
  },
  {
   "cell_type": "code",
   "execution_count": 2,
   "id": "3d30c9f1",
   "metadata": {},
   "outputs": [],
   "source": [
    "dataset = pd.read_csv('adult.csv')\n",
    "# Drop Education-num column because it corresponds directly to Education Column\n",
    "dataset = dataset.drop(columns='Education-num')\n",
    "#X = dataset.iloc[:, :-1].values\n",
    "#y = dataset.iloc[:, -1].values"
   ]
  },
  {
   "cell_type": "code",
   "execution_count": 3,
   "id": "133d64cb",
   "metadata": {},
   "outputs": [
    {
     "name": "stdout",
     "output_type": "stream",
     "text": [
      "       Age          Workclass  Fnlwgt    Education       Marital-status  \\\n",
      "0       39          State-gov   77516    Bachelors        Never-married   \n",
      "1       50   Self-emp-not-inc   83311    Bachelors   Married-civ-spouse   \n",
      "2       38            Private  215646      HS-grad             Divorced   \n",
      "3       53            Private  234721         11th   Married-civ-spouse   \n",
      "4       28            Private  338409    Bachelors   Married-civ-spouse   \n",
      "...    ...                ...     ...          ...                  ...   \n",
      "32556   27            Private  257302   Assoc-acdm   Married-civ-spouse   \n",
      "32557   40            Private  154374      HS-grad   Married-civ-spouse   \n",
      "32558   58            Private  151910      HS-grad              Widowed   \n",
      "32559   22            Private  201490      HS-grad        Never-married   \n",
      "32560   52       Self-emp-inc  287927      HS-grad   Married-civ-spouse   \n",
      "\n",
      "               Occupation    Relationship    Race      Sex  Capital-gain  \\\n",
      "0            Adm-clerical   Not-in-family   White     Male          2174   \n",
      "1         Exec-managerial         Husband   White     Male             0   \n",
      "2       Handlers-cleaners   Not-in-family   White     Male             0   \n",
      "3       Handlers-cleaners         Husband   Black     Male             0   \n",
      "4          Prof-specialty            Wife   Black   Female             0   \n",
      "...                   ...             ...     ...      ...           ...   \n",
      "32556        Tech-support            Wife   White   Female             0   \n",
      "32557   Machine-op-inspct         Husband   White     Male             0   \n",
      "32558        Adm-clerical       Unmarried   White   Female             0   \n",
      "32559        Adm-clerical       Own-child   White     Male             0   \n",
      "32560     Exec-managerial            Wife   White   Female         15024   \n",
      "\n",
      "       Capital-loss  Hours-per-week  Native-country Prediction  \n",
      "0                 0              40   United-States      <=50K  \n",
      "1                 0              13   United-States      <=50K  \n",
      "2                 0              40   United-States      <=50K  \n",
      "3                 0              40   United-States      <=50K  \n",
      "4                 0              40            Cuba      <=50K  \n",
      "...             ...             ...             ...        ...  \n",
      "32556             0              38   United-States      <=50K  \n",
      "32557             0              40   United-States       >50K  \n",
      "32558             0              40   United-States      <=50K  \n",
      "32559             0              20   United-States      <=50K  \n",
      "32560             0              40   United-States       >50K  \n",
      "\n",
      "[32561 rows x 14 columns]\n"
     ]
    }
   ],
   "source": [
    "print(dataset)"
   ]
  },
  {
   "cell_type": "code",
   "execution_count": 4,
   "id": "44aa0032",
   "metadata": {},
   "outputs": [
    {
     "data": {
      "text/html": [
       "<div>\n",
       "<style scoped>\n",
       "    .dataframe tbody tr th:only-of-type {\n",
       "        vertical-align: middle;\n",
       "    }\n",
       "\n",
       "    .dataframe tbody tr th {\n",
       "        vertical-align: top;\n",
       "    }\n",
       "\n",
       "    .dataframe thead th {\n",
       "        text-align: right;\n",
       "    }\n",
       "</style>\n",
       "<table border=\"1\" class=\"dataframe\">\n",
       "  <thead>\n",
       "    <tr style=\"text-align: right;\">\n",
       "      <th></th>\n",
       "      <th>Age</th>\n",
       "      <th>Workclass</th>\n",
       "      <th>Fnlwgt</th>\n",
       "      <th>Education</th>\n",
       "      <th>Marital-status</th>\n",
       "      <th>Occupation</th>\n",
       "      <th>Relationship</th>\n",
       "      <th>Race</th>\n",
       "      <th>Sex</th>\n",
       "      <th>Capital-gain</th>\n",
       "      <th>Capital-loss</th>\n",
       "      <th>Hours-per-week</th>\n",
       "      <th>Native-country</th>\n",
       "      <th>Prediction</th>\n",
       "    </tr>\n",
       "  </thead>\n",
       "  <tbody>\n",
       "    <tr>\n",
       "      <th>0</th>\n",
       "      <td>39</td>\n",
       "      <td>State-gov</td>\n",
       "      <td>77516</td>\n",
       "      <td>Bachelors</td>\n",
       "      <td>Never-married</td>\n",
       "      <td>Adm-clerical</td>\n",
       "      <td>Not-in-family</td>\n",
       "      <td>White</td>\n",
       "      <td>Male</td>\n",
       "      <td>2174</td>\n",
       "      <td>0</td>\n",
       "      <td>40</td>\n",
       "      <td>United-States</td>\n",
       "      <td>&lt;=50K</td>\n",
       "    </tr>\n",
       "    <tr>\n",
       "      <th>1</th>\n",
       "      <td>50</td>\n",
       "      <td>Self-emp-not-inc</td>\n",
       "      <td>83311</td>\n",
       "      <td>Bachelors</td>\n",
       "      <td>Married-civ-spouse</td>\n",
       "      <td>Exec-managerial</td>\n",
       "      <td>Husband</td>\n",
       "      <td>White</td>\n",
       "      <td>Male</td>\n",
       "      <td>0</td>\n",
       "      <td>0</td>\n",
       "      <td>13</td>\n",
       "      <td>United-States</td>\n",
       "      <td>&lt;=50K</td>\n",
       "    </tr>\n",
       "    <tr>\n",
       "      <th>2</th>\n",
       "      <td>38</td>\n",
       "      <td>Private</td>\n",
       "      <td>215646</td>\n",
       "      <td>HS-grad</td>\n",
       "      <td>Divorced</td>\n",
       "      <td>Handlers-cleaners</td>\n",
       "      <td>Not-in-family</td>\n",
       "      <td>White</td>\n",
       "      <td>Male</td>\n",
       "      <td>0</td>\n",
       "      <td>0</td>\n",
       "      <td>40</td>\n",
       "      <td>United-States</td>\n",
       "      <td>&lt;=50K</td>\n",
       "    </tr>\n",
       "    <tr>\n",
       "      <th>3</th>\n",
       "      <td>53</td>\n",
       "      <td>Private</td>\n",
       "      <td>234721</td>\n",
       "      <td>11th</td>\n",
       "      <td>Married-civ-spouse</td>\n",
       "      <td>Handlers-cleaners</td>\n",
       "      <td>Husband</td>\n",
       "      <td>Black</td>\n",
       "      <td>Male</td>\n",
       "      <td>0</td>\n",
       "      <td>0</td>\n",
       "      <td>40</td>\n",
       "      <td>United-States</td>\n",
       "      <td>&lt;=50K</td>\n",
       "    </tr>\n",
       "    <tr>\n",
       "      <th>4</th>\n",
       "      <td>28</td>\n",
       "      <td>Private</td>\n",
       "      <td>338409</td>\n",
       "      <td>Bachelors</td>\n",
       "      <td>Married-civ-spouse</td>\n",
       "      <td>Prof-specialty</td>\n",
       "      <td>Wife</td>\n",
       "      <td>Black</td>\n",
       "      <td>Female</td>\n",
       "      <td>0</td>\n",
       "      <td>0</td>\n",
       "      <td>40</td>\n",
       "      <td>Cuba</td>\n",
       "      <td>&lt;=50K</td>\n",
       "    </tr>\n",
       "  </tbody>\n",
       "</table>\n",
       "</div>"
      ],
      "text/plain": [
       "   Age          Workclass  Fnlwgt   Education       Marital-status  \\\n",
       "0   39          State-gov   77516   Bachelors        Never-married   \n",
       "1   50   Self-emp-not-inc   83311   Bachelors   Married-civ-spouse   \n",
       "2   38            Private  215646     HS-grad             Divorced   \n",
       "3   53            Private  234721        11th   Married-civ-spouse   \n",
       "4   28            Private  338409   Bachelors   Married-civ-spouse   \n",
       "\n",
       "           Occupation    Relationship    Race      Sex  Capital-gain  \\\n",
       "0        Adm-clerical   Not-in-family   White     Male          2174   \n",
       "1     Exec-managerial         Husband   White     Male             0   \n",
       "2   Handlers-cleaners   Not-in-family   White     Male             0   \n",
       "3   Handlers-cleaners         Husband   Black     Male             0   \n",
       "4      Prof-specialty            Wife   Black   Female             0   \n",
       "\n",
       "   Capital-loss  Hours-per-week  Native-country Prediction  \n",
       "0             0              40   United-States      <=50K  \n",
       "1             0              13   United-States      <=50K  \n",
       "2             0              40   United-States      <=50K  \n",
       "3             0              40   United-States      <=50K  \n",
       "4             0              40            Cuba      <=50K  "
      ]
     },
     "execution_count": 4,
     "metadata": {},
     "output_type": "execute_result"
    }
   ],
   "source": [
    "dataset.head()"
   ]
  },
  {
   "cell_type": "code",
   "execution_count": 5,
   "id": "fadaf75c",
   "metadata": {},
   "outputs": [
    {
     "data": {
      "text/plain": [
       "(32561, 14)"
      ]
     },
     "execution_count": 5,
     "metadata": {},
     "output_type": "execute_result"
    }
   ],
   "source": [
    "dataset.shape"
   ]
  },
  {
   "cell_type": "code",
   "execution_count": 6,
   "id": "3efe95b6",
   "metadata": {},
   "outputs": [
    {
     "data": {
      "text/plain": [
       "Age                int64\n",
       "Workclass         object\n",
       "Fnlwgt             int64\n",
       "Education         object\n",
       "Marital-status    object\n",
       "Occupation        object\n",
       "Relationship      object\n",
       "Race              object\n",
       "Sex               object\n",
       "Capital-gain       int64\n",
       "Capital-loss       int64\n",
       "Hours-per-week     int64\n",
       "Native-country    object\n",
       "Prediction        object\n",
       "dtype: object"
      ]
     },
     "execution_count": 6,
     "metadata": {},
     "output_type": "execute_result"
    }
   ],
   "source": [
    "dataset.dtypes "
   ]
  },
  {
   "cell_type": "code",
   "execution_count": 7,
   "id": "bda114c0",
   "metadata": {},
   "outputs": [],
   "source": [
    "#Workclass, Education, Marital-status, Occupation,Relationship, Race,Sex,Native-country, Prediction are categorical Data"
   ]
  },
  {
   "cell_type": "markdown",
   "id": "e943b1f9",
   "metadata": {},
   "source": [
    "## Handle Missing Values"
   ]
  },
  {
   "cell_type": "code",
   "execution_count": 8,
   "id": "5673231f",
   "metadata": {},
   "outputs": [
    {
     "data": {
      "text/plain": [
       "Age               0\n",
       "Workclass         0\n",
       "Fnlwgt            0\n",
       "Education         0\n",
       "Marital-status    0\n",
       "Occupation        0\n",
       "Relationship      0\n",
       "Race              0\n",
       "Sex               0\n",
       "Capital-gain      0\n",
       "Capital-loss      0\n",
       "Hours-per-week    0\n",
       "Native-country    0\n",
       "Prediction        0\n",
       "dtype: int64"
      ]
     },
     "execution_count": 8,
     "metadata": {},
     "output_type": "execute_result"
    }
   ],
   "source": [
    "dataset.isnull().sum()"
   ]
  },
  {
   "cell_type": "code",
   "execution_count": 9,
   "id": "47c371df",
   "metadata": {},
   "outputs": [],
   "source": [
    "#Although there are no Null values, there is however '?' values and we need to process that\n",
    "dataset[dataset ==' ?'] = np.nan"
   ]
  },
  {
   "cell_type": "code",
   "execution_count": 10,
   "id": "71eedfe9",
   "metadata": {},
   "outputs": [
    {
     "data": {
      "text/plain": [
       "Age                  0\n",
       "Workclass         1836\n",
       "Fnlwgt               0\n",
       "Education            0\n",
       "Marital-status       0\n",
       "Occupation        1843\n",
       "Relationship         0\n",
       "Race                 0\n",
       "Sex                  0\n",
       "Capital-gain         0\n",
       "Capital-loss         0\n",
       "Hours-per-week       0\n",
       "Native-country     583\n",
       "Prediction           0\n",
       "dtype: int64"
      ]
     },
     "execution_count": 10,
     "metadata": {},
     "output_type": "execute_result"
    }
   ],
   "source": [
    "dataset.isnull().sum()"
   ]
  },
  {
   "cell_type": "code",
   "execution_count": 11,
   "id": "407dadc3",
   "metadata": {},
   "outputs": [],
   "source": [
    "#As a result, there is null values populated in Workclass, Occupation and Native-country"
   ]
  },
  {
   "cell_type": "code",
   "execution_count": 12,
   "id": "eaecf123",
   "metadata": {},
   "outputs": [
    {
     "name": "stdout",
     "output_type": "stream",
     "text": [
      "<class 'pandas.core.frame.DataFrame'>\n",
      "RangeIndex: 32561 entries, 0 to 32560\n",
      "Data columns (total 14 columns):\n",
      " #   Column          Non-Null Count  Dtype \n",
      "---  ------          --------------  ----- \n",
      " 0   Age             32561 non-null  int64 \n",
      " 1   Workclass       30725 non-null  object\n",
      " 2   Fnlwgt          32561 non-null  int64 \n",
      " 3   Education       32561 non-null  object\n",
      " 4   Marital-status  32561 non-null  object\n",
      " 5   Occupation      30718 non-null  object\n",
      " 6   Relationship    32561 non-null  object\n",
      " 7   Race            32561 non-null  object\n",
      " 8   Sex             32561 non-null  object\n",
      " 9   Capital-gain    32561 non-null  int64 \n",
      " 10  Capital-loss    32561 non-null  int64 \n",
      " 11  Hours-per-week  32561 non-null  int64 \n",
      " 12  Native-country  31978 non-null  object\n",
      " 13  Prediction      32561 non-null  object\n",
      "dtypes: int64(5), object(9)\n",
      "memory usage: 3.5+ MB\n"
     ]
    }
   ],
   "source": [
    "dataset.info()"
   ]
  },
  {
   "cell_type": "code",
   "execution_count": 13,
   "id": "d2713a1c",
   "metadata": {},
   "outputs": [],
   "source": [
    "#Replace Null values with Mode\n",
    "for col in ['Workclass','Occupation', 'Native-country']:\n",
    "    dataset[col].fillna(dataset[col].mode()[0], inplace =True)"
   ]
  },
  {
   "cell_type": "code",
   "execution_count": 14,
   "id": "70878b3b",
   "metadata": {},
   "outputs": [
    {
     "data": {
      "text/plain": [
       "Age               0\n",
       "Workclass         0\n",
       "Fnlwgt            0\n",
       "Education         0\n",
       "Marital-status    0\n",
       "Occupation        0\n",
       "Relationship      0\n",
       "Race              0\n",
       "Sex               0\n",
       "Capital-gain      0\n",
       "Capital-loss      0\n",
       "Hours-per-week    0\n",
       "Native-country    0\n",
       "Prediction        0\n",
       "dtype: int64"
      ]
     },
     "execution_count": 14,
     "metadata": {},
     "output_type": "execute_result"
    }
   ],
   "source": [
    "#All values has been populated \n",
    "dataset.isnull().sum()"
   ]
  },
  {
   "cell_type": "markdown",
   "id": "339ee02b",
   "metadata": {},
   "source": [
    "## Feature Engineering"
   ]
  },
  {
   "cell_type": "code",
   "execution_count": 15,
   "id": "30c3da19",
   "metadata": {},
   "outputs": [
    {
     "data": {
      "text/plain": [
       "Age                  73\n",
       "Workclass             8\n",
       "Fnlwgt            21648\n",
       "Education            16\n",
       "Marital-status        7\n",
       "Occupation           14\n",
       "Relationship          6\n",
       "Race                  5\n",
       "Sex                   2\n",
       "Capital-gain        119\n",
       "Capital-loss         92\n",
       "Hours-per-week       94\n",
       "Native-country       41\n",
       "Prediction            2\n",
       "dtype: int64"
      ]
     },
     "execution_count": 15,
     "metadata": {},
     "output_type": "execute_result"
    }
   ],
   "source": [
    "#Before\n",
    "dataset.nunique()"
   ]
  },
  {
   "cell_type": "code",
   "execution_count": 16,
   "id": "34bcd086",
   "metadata": {},
   "outputs": [
    {
     "data": {
      "text/plain": [
       " Private             24532\n",
       " Self-emp-not-inc     2541\n",
       " Local-gov            2093\n",
       " State-gov            1298\n",
       " Self-emp-inc         1116\n",
       " Federal-gov           960\n",
       " Without-pay            14\n",
       " Never-worked            7\n",
       "Name: Workclass, dtype: int64"
      ]
     },
     "execution_count": 16,
     "metadata": {},
     "output_type": "execute_result"
    }
   ],
   "source": [
    "#Before\n",
    "dataset['Workclass'].value_counts()"
   ]
  },
  {
   "cell_type": "code",
   "execution_count": 17,
   "id": "65169d03",
   "metadata": {},
   "outputs": [],
   "source": [
    "dataset['Workclass'] = dataset['Workclass'].replace([' Local-gov',' State-gov',' Federal-gov'], 'Government')\n",
    "dataset['Workclass'] = dataset['Workclass'].replace([' Self-emp-not-inc',' Self-emp-inc'], 'Self-Employed')\n",
    "dataset['Workclass'] = dataset['Workclass'].replace(' Private','Private')\n",
    "dataset['Workclass'] = dataset['Workclass'].replace([' Without-pay', ' Never-worked'],'Unemployed')"
   ]
  },
  {
   "cell_type": "code",
   "execution_count": 18,
   "id": "6a2c400d",
   "metadata": {},
   "outputs": [
    {
     "data": {
      "text/plain": [
       "Private          24532\n",
       "Government        4351\n",
       "Self-Employed     3657\n",
       "Unemployed          21\n",
       "Name: Workclass, dtype: int64"
      ]
     },
     "execution_count": 18,
     "metadata": {},
     "output_type": "execute_result"
    }
   ],
   "source": [
    "#After\n",
    "dataset['Workclass'].value_counts()"
   ]
  },
  {
   "cell_type": "code",
   "execution_count": 19,
   "id": "5c06014a",
   "metadata": {},
   "outputs": [
    {
     "data": {
      "text/plain": [
       " HS-grad         10501\n",
       " Some-college     7291\n",
       " Bachelors        5355\n",
       " Masters          1723\n",
       " Assoc-voc        1382\n",
       " 11th             1175\n",
       " Assoc-acdm       1067\n",
       " 10th              933\n",
       " 7th-8th           646\n",
       " Prof-school       576\n",
       " 9th               514\n",
       " 12th              433\n",
       " Doctorate         413\n",
       " 5th-6th           333\n",
       " 1st-4th           168\n",
       " Preschool          51\n",
       "Name: Education, dtype: int64"
      ]
     },
     "execution_count": 19,
     "metadata": {},
     "output_type": "execute_result"
    }
   ],
   "source": [
    "#Before\n",
    "dataset['Education'].value_counts()"
   ]
  },
  {
   "cell_type": "code",
   "execution_count": 20,
   "id": "ff6b0586",
   "metadata": {},
   "outputs": [],
   "source": [
    "dataset['Education'] = dataset['Education'].replace([' Preschool',' 1st-4th',' 5th-6th',' 7th-8th',' 9th',' 10th',' 11th',' 12th'], 'Grade-school')\n",
    "dataset['Education'] = dataset['Education'].replace(' HS-grad','High-school')\n",
    "dataset['Education'] = dataset['Education'].replace([' Assoc-voc',' Assoc-acdm',' Some-college'], 'Associate')\n",
    "dataset['Education'] = dataset['Education'].replace(' Bachelors','Undergraduate')\n",
    "dataset['Education'] = dataset['Education'].replace([' Masters',' Prof-school',' Doctorate'], 'Postgraduate')"
   ]
  },
  {
   "cell_type": "code",
   "execution_count": 21,
   "id": "2cca8b46",
   "metadata": {},
   "outputs": [
    {
     "data": {
      "text/plain": [
       "High-school      10501\n",
       "Associate         9740\n",
       "Undergraduate     5355\n",
       "Grade-school      4253\n",
       "Postgraduate      2712\n",
       "Name: Education, dtype: int64"
      ]
     },
     "execution_count": 21,
     "metadata": {},
     "output_type": "execute_result"
    }
   ],
   "source": [
    "#After\n",
    "dataset['Education'].value_counts()"
   ]
  },
  {
   "cell_type": "code",
   "execution_count": 22,
   "id": "5aae0fbe",
   "metadata": {},
   "outputs": [
    {
     "data": {
      "text/plain": [
       " Married-civ-spouse       14976\n",
       " Never-married            10683\n",
       " Divorced                  4443\n",
       " Separated                 1025\n",
       " Widowed                    993\n",
       " Married-spouse-absent      418\n",
       " Married-AF-spouse           23\n",
       "Name: Marital-status, dtype: int64"
      ]
     },
     "execution_count": 22,
     "metadata": {},
     "output_type": "execute_result"
    }
   ],
   "source": [
    "#Before\n",
    "dataset['Marital-status'].value_counts()"
   ]
  },
  {
   "cell_type": "code",
   "execution_count": 23,
   "id": "a8505cdb",
   "metadata": {},
   "outputs": [],
   "source": [
    "dataset['Marital-status'] = dataset['Marital-status'].replace([' Married-civ-spouse',' Married-AF-spouse'], 'Married')\n",
    "dataset['Marital-status'] = dataset['Marital-status'].replace([' Divorced',' Separated',' Married-spouse-absent',' Widowed'], 'Separated')\n",
    "dataset['Marital-status'] = dataset['Marital-status'].replace(' Never-married','Single')"
   ]
  },
  {
   "cell_type": "code",
   "execution_count": 24,
   "id": "69b2a8cd",
   "metadata": {},
   "outputs": [
    {
     "data": {
      "text/plain": [
       "Married      14999\n",
       "Single       10683\n",
       "Separated     6879\n",
       "Name: Marital-status, dtype: int64"
      ]
     },
     "execution_count": 24,
     "metadata": {},
     "output_type": "execute_result"
    }
   ],
   "source": [
    "#After\n",
    "dataset['Marital-status'].value_counts()"
   ]
  },
  {
   "cell_type": "code",
   "execution_count": 25,
   "id": "46765522",
   "metadata": {},
   "outputs": [
    {
     "data": {
      "text/plain": [
       "Age                  73\n",
       "Workclass             4\n",
       "Fnlwgt            21648\n",
       "Education             5\n",
       "Marital-status        3\n",
       "Occupation           14\n",
       "Relationship          6\n",
       "Race                  5\n",
       "Sex                   2\n",
       "Capital-gain        119\n",
       "Capital-loss         92\n",
       "Hours-per-week       94\n",
       "Native-country       41\n",
       "Prediction            2\n",
       "dtype: int64"
      ]
     },
     "execution_count": 25,
     "metadata": {},
     "output_type": "execute_result"
    }
   ],
   "source": [
    "#After\n",
    "dataset.nunique()"
   ]
  },
  {
   "cell_type": "markdown",
   "id": "42320cc5",
   "metadata": {},
   "source": [
    "## Label Encoding on Categorical Variables"
   ]
  },
  {
   "cell_type": "code",
   "execution_count": 26,
   "id": "d35efc1b",
   "metadata": {},
   "outputs": [
    {
     "name": "stdout",
     "output_type": "stream",
     "text": [
      "Index(['Workclass', 'Education', 'Marital-status', 'Occupation',\n",
      "       'Relationship', 'Race', 'Sex', 'Native-country', 'Prediction'],\n",
      "      dtype='object')\n"
     ]
    }
   ],
   "source": [
    "categorical = dataset.select_dtypes(include = \"object\").columns\n",
    "print (categorical)"
   ]
  },
  {
   "cell_type": "code",
   "execution_count": 27,
   "id": "ceb6187d",
   "metadata": {},
   "outputs": [],
   "source": [
    "from sklearn.preprocessing import LabelEncoder\n",
    "for feature in categorical:\n",
    "    le = LabelEncoder()\n",
    "    dataset[feature] = le.fit_transform(dataset[feature])"
   ]
  },
  {
   "cell_type": "code",
   "execution_count": 28,
   "id": "558d97ce",
   "metadata": {},
   "outputs": [
    {
     "data": {
      "text/plain": [
       "0    24720\n",
       "1     7841\n",
       "Name: Prediction, dtype: int64"
      ]
     },
     "execution_count": 28,
     "metadata": {},
     "output_type": "execute_result"
    }
   ],
   "source": [
    "dataset['Prediction'].value_counts()"
   ]
  },
  {
   "cell_type": "markdown",
   "id": "d607b755",
   "metadata": {},
   "source": [
    "## Splitting the dataset into the Training set and Test set"
   ]
  },
  {
   "cell_type": "code",
   "execution_count": 29,
   "id": "3d39bccb",
   "metadata": {},
   "outputs": [],
   "source": [
    "#Splitting the dataset based on 70% Train and 30% Test, and set random state = 0 so that results for every run will be the same"
   ]
  },
  {
   "cell_type": "code",
   "execution_count": 30,
   "id": "64037de0",
   "metadata": {},
   "outputs": [],
   "source": [
    "from sklearn.model_selection import train_test_split\n",
    "X = dataset.iloc[:, :-1].values\n",
    "y = dataset.iloc[:, -1].values\n",
    "X_train, X_test, y_train, y_test = train_test_split(X, y, test_size = 0.3, random_state = 0)"
   ]
  },
  {
   "cell_type": "markdown",
   "id": "5c073398",
   "metadata": {},
   "source": [
    "## Feature Scaling"
   ]
  },
  {
   "cell_type": "code",
   "execution_count": 31,
   "id": "903ea0d8",
   "metadata": {},
   "outputs": [],
   "source": [
    "from sklearn.preprocessing import StandardScaler\n",
    "\n",
    "scaler = StandardScaler()\n",
    "\n",
    "X_train[:,:] = scaler.fit_transform(X_train[:,:])\n",
    "X_test[:,:] = scaler.transform(X_test[:,:])"
   ]
  },
  {
   "cell_type": "markdown",
   "id": "a75fe426",
   "metadata": {},
   "source": [
    "## Dimensionality reduction"
   ]
  },
  {
   "cell_type": "code",
   "execution_count": 32,
   "id": "cf417b96",
   "metadata": {},
   "outputs": [],
   "source": [
    "#Principal Component Analysis is employed to solve the effect of the Curse of Dimensionality, while restoring about 95% of the Explained Variance\n",
    "#Feature Extraction\n",
    "from sklearn.decomposition import PCA\n",
    "pca = PCA(n_components = 0.95)\n",
    "X_train = pca.fit_transform(X_train)\n",
    "X_test = pca.transform(X_test)"
   ]
  },
  {
   "cell_type": "markdown",
   "id": "7b743486",
   "metadata": {},
   "source": [
    "# Classification Models"
   ]
  },
  {
   "cell_type": "markdown",
   "id": "7ab8de23",
   "metadata": {},
   "source": [
    "## Support Vector Machine"
   ]
  },
  {
   "cell_type": "markdown",
   "id": "7bdba485",
   "metadata": {},
   "source": [
    "### Building Model (Training)"
   ]
  },
  {
   "cell_type": "code",
   "execution_count": 33,
   "id": "cd717d77",
   "metadata": {},
   "outputs": [
    {
     "name": "stdout",
     "output_type": "stream",
     "text": [
      "Wall time: 30.6 s\n"
     ]
    },
    {
     "data": {
      "text/plain": [
       "SVC(random_state=0)"
      ]
     },
     "execution_count": 33,
     "metadata": {},
     "output_type": "execute_result"
    }
   ],
   "source": [
    "%%time\n",
    "from sklearn.svm import SVC\n",
    "#Using RBF function\n",
    "classifier = SVC(random_state = 0) \n",
    "classifier.fit(X_train, y_train)"
   ]
  },
  {
   "cell_type": "markdown",
   "id": "d4572cf9",
   "metadata": {},
   "source": [
    "### Evaluate Model (Testing)"
   ]
  },
  {
   "cell_type": "code",
   "execution_count": 34,
   "id": "56dfefcc",
   "metadata": {},
   "outputs": [
    {
     "name": "stdout",
     "output_type": "stream",
     "text": [
      "[[7151  256]\n",
      " [1613  749]]\n",
      "Accuracy rate:  80.87%\n",
      "Weighted F-Measure:  77.82%\n",
      "Wall time: 18.2 s\n"
     ]
    }
   ],
   "source": [
    "%%time\n",
    "from sklearn.metrics import confusion_matrix, accuracy_score,f1_score\n",
    "y_pred = classifier.predict(X_test)\n",
    "cm = confusion_matrix(y_test, y_pred)\n",
    "print(cm)\n",
    "accuracy='{:.2%}'.format(accuracy_score(y_test, y_pred))\n",
    "print('Accuracy rate: ' , accuracy)\n",
    "f1score = '{:.2%}'.format(f1_score(y_test, y_pred, average='weighted'))\n",
    "print('Weighted F-Measure: ' , f1score)"
   ]
  },
  {
   "cell_type": "markdown",
   "id": "b1e5f524",
   "metadata": {},
   "source": [
    "### K-Fold Cross Validation (Testing)"
   ]
  },
  {
   "cell_type": "code",
   "execution_count": 35,
   "id": "2c160072",
   "metadata": {},
   "outputs": [
    {
     "name": "stdout",
     "output_type": "stream",
     "text": [
      "Accuracy rate: 80.94%\n",
      "Weighted F-Measure: 77.86%\n",
      "Wall time: 9min 37s\n"
     ]
    }
   ],
   "source": [
    "%%time\n",
    "from sklearn.model_selection import cross_val_score\n",
    "accuracy = cross_val_score(estimator = classifier,X = X_train, y = y_train, cv = 10,scoring = \"accuracy\" )\n",
    "f1score = cross_val_score(estimator = classifier,scoring = \"f1_weighted\" ,X = X_train, y = y_train, cv = 10)\n",
    "print(\"Accuracy rate: {:.2%}\".format(accuracy.mean()))\n",
    "print(\"Weighted F-Measure: {:.2%}\".format(f1score.mean()))"
   ]
  },
  {
   "cell_type": "markdown",
   "id": "7a4c8415",
   "metadata": {},
   "source": [
    "## Random Forest"
   ]
  },
  {
   "cell_type": "markdown",
   "id": "8a6d5c61",
   "metadata": {},
   "source": [
    "### Building Model (Training)"
   ]
  },
  {
   "cell_type": "code",
   "execution_count": 36,
   "id": "2669e44c",
   "metadata": {},
   "outputs": [
    {
     "name": "stdout",
     "output_type": "stream",
     "text": [
      "Wall time: 7.81 s\n"
     ]
    },
    {
     "data": {
      "text/plain": [
       "RandomForestClassifier(criterion='entropy', random_state=0)"
      ]
     },
     "execution_count": 36,
     "metadata": {},
     "output_type": "execute_result"
    }
   ],
   "source": [
    "%%time\n",
    "from sklearn.ensemble import RandomForestClassifier\n",
    "#Forest utilizes 100 decision trees to make a decision,uses entropy function to split \n",
    "classifier = RandomForestClassifier(n_estimators = 100, criterion = 'entropy', random_state = 0) \n",
    "classifier.fit(X_train, y_train)"
   ]
  },
  {
   "cell_type": "markdown",
   "id": "35befc83",
   "metadata": {},
   "source": [
    "### Evaluate Model (Testing)"
   ]
  },
  {
   "cell_type": "code",
   "execution_count": 37,
   "id": "853ff94b",
   "metadata": {},
   "outputs": [
    {
     "name": "stdout",
     "output_type": "stream",
     "text": [
      "[[6883  524]\n",
      " [1347 1015]]\n",
      "Accuracy rate:  80.85%\n",
      "Weighted F-Measure:  79.33%\n",
      "Wall time: 388 ms\n"
     ]
    }
   ],
   "source": [
    "%%time\n",
    "from sklearn.metrics import confusion_matrix, accuracy_score,f1_score\n",
    "y_pred = classifier.predict(X_test)\n",
    "cm = confusion_matrix(y_test, y_pred)\n",
    "print(cm)\n",
    "accuracy='{:.2%}'.format(accuracy_score(y_test, y_pred))\n",
    "print('Accuracy rate: ' , accuracy)\n",
    "f1score = '{:.2%}'.format(f1_score(y_test, y_pred, average='weighted'))\n",
    "print('Weighted F-Measure: ' , f1score)"
   ]
  },
  {
   "cell_type": "markdown",
   "id": "367ec092",
   "metadata": {},
   "source": [
    "### K-Fold Cross Validation (Testing)"
   ]
  },
  {
   "cell_type": "code",
   "execution_count": 38,
   "id": "518931a7",
   "metadata": {},
   "outputs": [
    {
     "name": "stdout",
     "output_type": "stream",
     "text": [
      "Accuracy rate: 80.66%\n",
      "Weighted F-Measure: 79.17%\n",
      "Wall time: 2min 22s\n"
     ]
    }
   ],
   "source": [
    "%%time\n",
    "from sklearn.model_selection import cross_val_score\n",
    "accuracy = cross_val_score(estimator = classifier,X = X_train, y = y_train, cv = 10,scoring = \"accuracy\" )\n",
    "f1score = cross_val_score(estimator = classifier,scoring = \"f1_weighted\" ,X = X_train, y = y_train, cv = 10)\n",
    "print(\"Accuracy rate: {:.2%}\".format(accuracy.mean()))\n",
    "print(\"Weighted F-Measure: {:.2%}\".format(f1score.mean()))"
   ]
  }
 ],
 "metadata": {
  "kernelspec": {
   "display_name": "Python 3",
   "language": "python",
   "name": "python3"
  },
  "language_info": {
   "codemirror_mode": {
    "name": "ipython",
    "version": 3
   },
   "file_extension": ".py",
   "mimetype": "text/x-python",
   "name": "python",
   "nbconvert_exporter": "python",
   "pygments_lexer": "ipython3",
   "version": "3.8.8"
  }
 },
 "nbformat": 4,
 "nbformat_minor": 5
}
